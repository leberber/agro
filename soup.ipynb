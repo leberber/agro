{
 "cells": [
  {
   "cell_type": "code",
   "execution_count": 5,
   "id": "3b5054e6-4de3-4a03-a132-0fed4c18565b",
   "metadata": {},
   "outputs": [],
   "source": [
    "#Python program to scrape website \n",
    "#and save quotes from website\n",
    "import requests\n",
    "from bs4 import BeautifulSoup\n",
    "import csv\n",
    "   "
   ]
  },
  {
   "cell_type": "code",
   "execution_count": 41,
   "id": "6e0f3018-b849-4a59-b497-6b794067ce8f",
   "metadata": {},
   "outputs": [
    {
     "name": "stdout",
     "output_type": "stream",
     "text": [
      "\n",
      "page/2/\n",
      "page/3/\n",
      "page/4/\n",
      "page/5/\n",
      "page/6/\n",
      "page/7/\n",
      "page/8/\n"
     ]
    }
   ],
   "source": [
    "dict_ = {}\n",
    "for i in ['','page/2/', 'page/3/','page/4/','page/5/','page/6/','page/7/','page/8/']:\n",
    "    print(i)\n",
    "    URL = f\"https://www.cevital-agro-industrie.com/nos-produits/{i}\"\n",
    "    r = requests.get(URL)\n",
    "    soup = BeautifulSoup(r.content)\n",
    "    products = soup.find_all(\"div\", class_=\"product\")\n",
    "    for pro in products:\n",
    "        dict_ [pro.find('h3').text.strip()] = pro.find('img').get(\"src\")"
   ]
  },
  {
   "cell_type": "code",
   "execution_count": 47,
   "id": "4910291a-4d96-46b7-b2ac-47d6ea47c785",
   "metadata": {},
   "outputs": [],
   "source": [
    "\n",
    "URL = f\"https://groupeamour.com/\"\n",
    "r = requests.get(URL)\n",
    "soup = BeautifulSoup(r.content)\n",
    "products = soup.find_all(\"div\", class_=\"special-gallery-item\")"
   ]
  },
  {
   "cell_type": "code",
   "execution_count": 48,
   "id": "79947b86-b5aa-4545-b174-1609842d8639",
   "metadata": {},
   "outputs": [
    {
     "data": {
      "text/plain": [
       "[]"
      ]
     },
     "execution_count": 48,
     "metadata": {},
     "output_type": "execute_result"
    }
   ],
   "source": [
    "products"
   ]
  },
  {
   "cell_type": "code",
   "execution_count": 49,
   "id": "3562c056-cab9-4c8f-904c-e9239d30a551",
   "metadata": {},
   "outputs": [],
   "source": [
    "from urllib.request import Request, urlopen\n",
    "from bs4 import BeautifulSoup as soup\n",
    "\n",
    "req = Request(URL , headers={'User-Agent': 'Mozilla/5.0'})\n",
    "\n",
    "webpage = urlopen(req).read()\n",
    "page_soup = soup(webpage, \"html.parser\")"
   ]
  },
  {
   "cell_type": "code",
   "execution_count": 51,
   "id": "553fd7e9-0d3b-4760-b193-1742c8a23076",
   "metadata": {},
   "outputs": [],
   "source": [
    "products = page_soup.find_all(\"div\", class_=\"special-gallery-item\")"
   ]
  },
  {
   "cell_type": "code",
   "execution_count": 61,
   "id": "e4ab264a-737d-44fb-a57b-492a552b6af7",
   "metadata": {},
   "outputs": [],
   "source": [
    "for pro in products:\n",
    "    # print(pro.find('img').get(\"src\"))\n",
    "    dict_ [pro.find('h2').text.strip()] = URL+pro.find('img').get(\"src\")"
   ]
  },
  {
   "cell_type": "code",
   "execution_count": 62,
   "id": "222c7ac7-a3d0-4221-b059-f22401d9f48c",
   "metadata": {},
   "outputs": [
    {
     "data": {
      "text/plain": [
       "{'Double Concentré de Tomates': 'https://groupeamour.com/images/dish_img_1.jpg',\n",
       " 'Harissa': 'https://groupeamour.com/images/dish_img_2.jpg',\n",
       " \"Confiture d'Abricots\": 'https://groupeamour.com/images/dish_img_5.jpg',\n",
       " \"Confiture d'Oranges\": 'https://groupeamour.com/images/dish_img_4.jpg',\n",
       " 'Confiture de Figues': 'https://groupeamour.com/images/dish_img_3.jpg',\n",
       " 'Confiture de Pommes': 'https://groupeamour.com/images/dish_img_6.jpg',\n",
       " 'Farine de blé tendre': 'https://groupeamour.com/images/dish_img_7.jpg',\n",
       " 'Semoule Supérieure de blé dur - Grosse': 'https://groupeamour.com/images/dish_img_8.jpg',\n",
       " 'Semoule - Demi Grosse': 'https://groupeamour.com/images/Semoule demi grosse 2.jpg',\n",
       " 'Semoule - Moyenne': 'https://groupeamour.com/images/Semoule moyenne 2.jpg',\n",
       " 'Semoule - Fine': 'https://groupeamour.com/images/Semoule fine 2.jpg',\n",
       " 'Couscous Moyen': 'https://groupeamour.com/images/dish_img_9.jpg',\n",
       " 'Couscous Gros': 'https://groupeamour.com/images/Couscous gros.jpg',\n",
       " 'Couscous Fin': 'https://groupeamour.com/images/Couscous fin.jpg'}"
      ]
     },
     "execution_count": 62,
     "metadata": {},
     "output_type": "execute_result"
    }
   ],
   "source": [
    "dict_ "
   ]
  },
  {
   "cell_type": "code",
   "execution_count": 73,
   "id": "5ef3cd71-3b07-4ec3-88ac-e68d729de41c",
   "metadata": {},
   "outputs": [
    {
     "data": {
      "text/plain": [
       "{'Fromage fondu portion': 'http://www.promasidor.dz/media/3413/boite-16-portions-plus-une-portion.png',\n",
       " 'Fromage fondu barre': 'http://www.promasidor.dz/media/3414/product_lb_croissance_square.png',\n",
       " 'Fromage cuisine': 'http://www.promasidor.dz/media/3415/product_lb_cuisiner_barre-300gr.png',\n",
       " 'Fromage olive Noir': 'http://www.promasidor.dz/media/3249/barre-150gr-olive-noire-copy.png',\n",
       " 'Ail & fines-herbes': 'http://www.promasidor.dz/media/3247/barre-150gr-ail-et-fines-herbes-copy.png'}"
      ]
     },
     "execution_count": 73,
     "metadata": {},
     "output_type": "execute_result"
    }
   ],
   "source": [
    "leBerber= {\n",
    "    'Fromage fondu portion':'http://www.promasidor.dz/media/3413/boite-16-portions-plus-une-portion.png',\n",
    "    'Fromage fondu barre':'http://www.promasidor.dz/media/3414/product_lb_croissance_square.png',\n",
    "    'Fromage cuisine':'http://www.promasidor.dz/media/3415/product_lb_cuisiner_barre-300gr.png',\n",
    "    'Fromage olive noir':'http://www.promasidor.dz/media/3249/barre-150gr-olive-noire-copy.png',\n",
    "    'Ail & fines-herbes':'http://www.promasidor.dz/media/3247/barre-150gr-ail-et-fines-herbes-copy.png',\n",
    "\n",
    "\n",
    "    }\n",
    "leBerber"
   ]
  },
  {
   "cell_type": "code",
   "execution_count": 85,
   "id": "aa143499-71ca-4d9f-b06e-bef6189a0ccd",
   "metadata": {},
   "outputs": [
    {
     "data": {
      "text/plain": [
       "{'cevital': {'Sauce Harissa Elio': 'https://www.cevital-agro-industrie.com/storage/2023/08/harissa-elio-min.jpg',\n",
       "  'Huile Spéciale Friture FLEURIAL': 'https://www.cevital-agro-industrie.com/storage/2023/06/huile-friture.jpg',\n",
       "  'Vinaigrettes': 'https://www.cevital-agro-industrie.com/storage/2023/03/Vinaigrettes-1-1.jpg',\n",
       "  'Harissa': 'https://www.cevital-agro-industrie.com/storage/2023/03/harissa-1-1-1.jpg',\n",
       "  'Mayonnaise FLEURIAL': 'https://www.cevital-agro-industrie.com/storage/2023/03/851.jpg',\n",
       "  'Mayonnaise Ail et Fines Herbes': 'https://www.cevital-agro-industrie.com/storage/2023/03/mayonnaise-ail-et-fines-herbes-1.jpg',\n",
       "  'Sauce Mayonnaise': 'https://www.cevital-agro-industrie.com/storage/2023/03/sauce-mayonnaise-700g-1.jpg',\n",
       "  'Moutarde': 'https://www.cevital-agro-industrie.com/storage/2023/03/moutarde-350g-1-1.jpg',\n",
       "  'Ketchup': 'https://www.cevital-agro-industrie.com/storage/2023/01/Ketchup.jpg',\n",
       "  'Mayonnaise FOODYS': 'https://www.cevital-agro-industrie.com/storage/2023/03/sauce-mayonnaise-1.jpg',\n",
       "  'Chocolat en Poudre Matina': 'https://www.cevital-agro-industrie.com/storage/2023/03/chocolat-en-poudre-500g.jpg',\n",
       "  'Huile de Colza FLEURIAL': 'https://www.cevital-agro-industrie.com/storage/2023/02/Huile-de-Colza-FLEURIAL-.jpg',\n",
       "  'Huile de Tournesol FLEURIAL': 'https://www.cevital-agro-industrie.com/storage/2023/02/Huile-de-Tournesol-FLEURIAL-.jpg',\n",
       "  'Huile de Soja ELIO': 'https://www.cevital-agro-industrie.com/storage/2023/02/Huile-de-Soja-ELIO.jpg',\n",
       "  'Beurre Tendre Gourmand': 'https://www.cevital-agro-industrie.com/storage/2023/02/Beurre-Tendre-Gourmand.jpg',\n",
       "  'Mélange Matière Grasse MATINA': 'https://www.cevital-agro-industrie.com/storage/2023/02/Melange-Matiere-Grasse-MATINA.jpg',\n",
       "  'Margarine de Feuilletage LA PARISIENNE': 'https://www.cevital-agro-industrie.com/storage/2023/02/margarine-la-parisienne-1K.jpg',\n",
       "  'Smen MEDINA': 'https://www.cevital-agro-industrie.com/storage/2023/02/smen-500g.jpg',\n",
       "  'Margarine de Table FLEURIAL Plaquette': 'https://www.cevital-agro-industrie.com/storage/2023/02/Margarine-de-Table-FLEURIAL-Plaquette.jpg',\n",
       "  'Margarine de Table FLEURIAL Barquette': 'https://www.cevital-agro-industrie.com/storage/2023/02/margarine-barquette-250g.jpg',\n",
       "  'Confitures MATINA Figue': 'https://www.cevital-agro-industrie.com/storage/2023/02/confiture-figue-9.jpg',\n",
       "  'Confitures MATINA Abricot': 'https://www.cevital-agro-industrie.com/storage/2023/02/confiture-abricot-6.jpg',\n",
       "  'Confitures MATINA Fraise': 'https://www.cevital-agro-industrie.com/storage/2023/02/confiture-fraise-5.jpg',\n",
       "  'Assila': 'https://www.cevital-agro-industrie.com/storage/2023/02/assila-1.jpg',\n",
       "  'Sucre Blanc Raffiné': 'https://www.cevital-agro-industrie.com/storage/2023/01/Sucre-Blanc.jpg',\n",
       "  'Sucre Glace': 'https://www.cevital-agro-industrie.com/storage/2023/02/sucre-glace-2.jpg',\n",
       "  'Sucre Roux Cristallisé': 'https://www.cevital-agro-industrie.com/storage/2023/02/Sucre-Roux.jpg',\n",
       "  'TCHINA Citonnade': 'https://www.cevital-agro-industrie.com/storage/2023/07/citronnade.jpg',\n",
       "  'TCHINA Jus en Verre': 'https://www.cevital-agro-industrie.com/storage/2023/03/jus-en-verre-orange.jpg',\n",
       "  'Lalla Khedidja Eau Minérale Naturelle Gazéifiée': 'https://www.cevital-agro-industrie.com/storage/2023/02/Lalla-Khedidja-Eau-Mineral-Naturelle-Gazeifiee.jpg',\n",
       "  'Lalla Khedidja Eau Minérale Naturelle': 'https://www.cevital-agro-industrie.com/storage/2023/02/Lalla-Khedidja-Eau-Mineral-Naturelle.jpg',\n",
       "  'TCHINA PEPS': 'https://www.cevital-agro-industrie.com/storage/2023/02/peps-orange-2.jpg',\n",
       "  'TCHINA Orange Mandarine': 'https://www.cevital-agro-industrie.com/storage/2023/04/mandarine-1l.jpg',\n",
       "  'TCHINA Orange Abricot': 'https://www.cevital-agro-industrie.com/storage/2023/02/orange-abricot-1L-2.jpg',\n",
       "  'TCHINA Orange Pêche': 'https://www.cevital-agro-industrie.com/storage/2023/02/orange-peche-1L-4.jpg',\n",
       "  'TCHINA Orange Mangue': 'https://www.cevital-agro-industrie.com/storage/2023/02/orange-mangue-1L-1-2-1.jpg',\n",
       "  'TCHINA Cocktail Tropical': 'https://www.cevital-agro-industrie.com/storage/2023/02/cocktail-1L-2.jpg',\n",
       "  'TCHINA Orange': 'https://www.cevital-agro-industrie.com/storage/2023/02/orange-1L-5.jpg'},\n",
       " 'ammour': {'Double Concentré de Tomates': 'https://groupeamour.com/images/dish_img_1.jpg',\n",
       "  'Harissa': 'https://groupeamour.com/images/dish_img_2.jpg',\n",
       "  \"Confiture d'Abricots\": 'https://groupeamour.com/images/dish_img_5.jpg',\n",
       "  \"Confiture d'Oranges\": 'https://groupeamour.com/images/dish_img_4.jpg',\n",
       "  'Confiture de Figues': 'https://groupeamour.com/images/dish_img_3.jpg',\n",
       "  'Confiture de Pommes': 'https://groupeamour.com/images/dish_img_6.jpg',\n",
       "  'Farine de blé tendre': 'https://groupeamour.com/images/dish_img_7.jpg',\n",
       "  'Semoule Supérieure de blé dur - Grosse': 'https://groupeamour.com/images/dish_img_8.jpg',\n",
       "  'Semoule - Demi Grosse': 'https://groupeamour.com/images/Semoule%20demi%20grosse%202.jpg',\n",
       "  'Semoule - Moyenne': 'https://groupeamour.com/images/Semoule%20moyenne%202.jpg',\n",
       "  'Semoule - Fine': 'https://groupeamour.com/images/Semoule%20fine%202.jpg',\n",
       "  'Couscous Moyen': 'https://groupeamour.com/images/dish_img_9.jpg',\n",
       "  'Couscous Gros': 'https://groupeamour.com/images/Couscous%20gros.jpg',\n",
       "  'Couscous Fin': 'https://groupeamour.com/images/Couscous%20fin.jpg'},\n",
       " 'ramady': {'Fromage fondu portion': 'https://www.ramdy-dz.com/file/img/fromge/ramdy-fromage-fondu-portion.jpg',\n",
       "  'Fromage fondu barre': 'https://www.ramdy-dz.com/file/img/fromge/ramdy-fromage-fondu-barre.jpg',\n",
       "  'Fromage tartin': 'https://www.ramdy-dz.com/file/img/fromge/ramdy-fromage-tartin.jpg',\n",
       "  \"Fromage à l'huile d'olive\": 'https://www.ramdy-dz.com/file/img/fromge/ramdy-fromage-huile-olive.jpg',\n",
       "  'Fromage gyzmo': 'https://www.ramdy-dz.com/file/img/fromge/ramdy-fromage-gyzmo.jpg'},\n",
       " 'ramy': {'Ramy Extra': 'https://www.ramyfood.com/media/k2/items/cache/be28adfff47893c4519c1307dc6b8866_M.jpg',\n",
       "  'Ramy nature': 'https://www.ramyfood.com/media/k2/items/cache/4d8c9898b5bb88437f053c8b957f47f3_M.jpg',\n",
       "  'Ramy Délice': 'https://www.ramyfood.com/media/k2/items/cache/53bed31cb74891ae64a31e4c592ef86d_M.jpg',\n",
       "  'Ramy Boisson gazéifié Canette': 'https://www.ramyfood.com/media/k2/items/cache/c1572c59821062c96d0fc33ad32a2983_M.jpg',\n",
       "  'Ramy Bitter Plus': 'https://www.ramyfood.com/media/k2/items/cache/1d73e13563b8be946c0f00bab252d7ea_M.jpg'},\n",
       " 'leBerber': {'Fromage fondu portion': 'http://www.promasidor.dz/media/3413/boite-16-portions-plus-une-portion.png',\n",
       "  'Fromage fondu barre': 'http://www.promasidor.dz/media/3414/product_lb_croissance_square.png',\n",
       "  'Fromage cuisine': 'http://www.promasidor.dz/media/3415/product_lb_cuisiner_barre-300gr.png',\n",
       "  'Fromage olive noir': 'http://www.promasidor.dz/media/3249/barre-150gr-olive-noire-copy.png',\n",
       "  'Ail & fines-herbes': 'http://www.promasidor.dz/media/3247/barre-150gr-ail-et-fines-herbes-copy.png'}}"
      ]
     },
     "execution_count": 85,
     "metadata": {},
     "output_type": "execute_result"
    }
   ],
   "source": [
    "produit={'cevital':{'Sauce Harissa Elio': 'https://www.cevital-agro-industrie.com/storage/2023/08/harissa-elio-min.jpg',\n",
    " 'Huile Spéciale Friture FLEURIAL': 'https://www.cevital-agro-industrie.com/storage/2023/06/huile-friture.jpg',\n",
    " 'Vinaigrettes': 'https://www.cevital-agro-industrie.com/storage/2023/03/Vinaigrettes-1-1.jpg',\n",
    " 'Harissa': 'https://www.cevital-agro-industrie.com/storage/2023/03/harissa-1-1-1.jpg',\n",
    " 'Mayonnaise FLEURIAL': 'https://www.cevital-agro-industrie.com/storage/2023/03/851.jpg',\n",
    " 'Mayonnaise Ail et Fines Herbes': 'https://www.cevital-agro-industrie.com/storage/2023/03/mayonnaise-ail-et-fines-herbes-1.jpg',\n",
    " 'Sauce Mayonnaise': 'https://www.cevital-agro-industrie.com/storage/2023/03/sauce-mayonnaise-700g-1.jpg',\n",
    " 'Moutarde': 'https://www.cevital-agro-industrie.com/storage/2023/03/moutarde-350g-1-1.jpg',\n",
    " 'Ketchup': 'https://www.cevital-agro-industrie.com/storage/2023/01/Ketchup.jpg',\n",
    " 'Mayonnaise FOODYS': 'https://www.cevital-agro-industrie.com/storage/2023/03/sauce-mayonnaise-1.jpg',\n",
    " 'Chocolat en Poudre Matina': 'https://www.cevital-agro-industrie.com/storage/2023/03/chocolat-en-poudre-500g.jpg',\n",
    " 'Huile de Colza FLEURIAL': 'https://www.cevital-agro-industrie.com/storage/2023/02/Huile-de-Colza-FLEURIAL-.jpg',\n",
    " 'Huile de Tournesol FLEURIAL': 'https://www.cevital-agro-industrie.com/storage/2023/02/Huile-de-Tournesol-FLEURIAL-.jpg',\n",
    " 'Huile de Soja ELIO': 'https://www.cevital-agro-industrie.com/storage/2023/02/Huile-de-Soja-ELIO.jpg',\n",
    " 'Beurre Tendre Gourmand': 'https://www.cevital-agro-industrie.com/storage/2023/02/Beurre-Tendre-Gourmand.jpg',\n",
    " 'Mélange Matière Grasse MATINA': 'https://www.cevital-agro-industrie.com/storage/2023/02/Melange-Matiere-Grasse-MATINA.jpg',\n",
    " 'Margarine de Feuilletage LA PARISIENNE': 'https://www.cevital-agro-industrie.com/storage/2023/02/margarine-la-parisienne-1K.jpg',\n",
    " 'Smen MEDINA': 'https://www.cevital-agro-industrie.com/storage/2023/02/smen-500g.jpg',\n",
    " 'Margarine de Table FLEURIAL Plaquette': 'https://www.cevital-agro-industrie.com/storage/2023/02/Margarine-de-Table-FLEURIAL-Plaquette.jpg',\n",
    " 'Margarine de Table FLEURIAL Barquette': 'https://www.cevital-agro-industrie.com/storage/2023/02/margarine-barquette-250g.jpg',\n",
    " 'Confitures MATINA Figue': 'https://www.cevital-agro-industrie.com/storage/2023/02/confiture-figue-9.jpg',\n",
    " 'Confitures MATINA Abricot': 'https://www.cevital-agro-industrie.com/storage/2023/02/confiture-abricot-6.jpg',\n",
    " 'Confitures MATINA Fraise': 'https://www.cevital-agro-industrie.com/storage/2023/02/confiture-fraise-5.jpg',\n",
    " 'Assila': 'https://www.cevital-agro-industrie.com/storage/2023/02/assila-1.jpg',\n",
    " 'Sucre Blanc Raffiné': 'https://www.cevital-agro-industrie.com/storage/2023/01/Sucre-Blanc.jpg',\n",
    " 'Sucre Glace': 'https://www.cevital-agro-industrie.com/storage/2023/02/sucre-glace-2.jpg',\n",
    " 'Sucre Roux Cristallisé': 'https://www.cevital-agro-industrie.com/storage/2023/02/Sucre-Roux.jpg',\n",
    " 'TCHINA Citonnade': 'https://www.cevital-agro-industrie.com/storage/2023/07/citronnade.jpg',\n",
    "\n",
    " 'TCHINA Jus en Verre': 'https://www.cevital-agro-industrie.com/storage/2023/03/jus-en-verre-orange.jpg',\n",
    " 'Lalla Khedidja Eau Minérale Naturelle Gazéifiée': 'https://www.cevital-agro-industrie.com/storage/2023/02/Lalla-Khedidja-Eau-Mineral-Naturelle-Gazeifiee.jpg',\n",
    " 'Lalla Khedidja Eau Minérale Naturelle': 'https://www.cevital-agro-industrie.com/storage/2023/02/Lalla-Khedidja-Eau-Mineral-Naturelle.jpg',\n",
    " 'TCHINA PEPS': 'https://www.cevital-agro-industrie.com/storage/2023/02/peps-orange-2.jpg',\n",
    " 'TCHINA Orange Mandarine': 'https://www.cevital-agro-industrie.com/storage/2023/04/mandarine-1l.jpg',\n",
    " 'TCHINA Orange Abricot': 'https://www.cevital-agro-industrie.com/storage/2023/02/orange-abricot-1L-2.jpg',\n",
    " 'TCHINA Orange Pêche': 'https://www.cevital-agro-industrie.com/storage/2023/02/orange-peche-1L-4.jpg',\n",
    " 'TCHINA Orange Mangue': 'https://www.cevital-agro-industrie.com/storage/2023/02/orange-mangue-1L-1-2-1.jpg',\n",
    " 'TCHINA Cocktail Tropical': 'https://www.cevital-agro-industrie.com/storage/2023/02/cocktail-1L-2.jpg',\n",
    " 'TCHINA Orange': 'https://www.cevital-agro-industrie.com/storage/2023/02/orange-1L-5.jpg'},\n",
    " \n",
    "'ammour':{\n",
    "    'Double Concentré de Tomates': 'https://groupeamour.com/images/dish_img_1.jpg',\n",
    " 'Harissa': 'https://groupeamour.com/images/dish_img_2.jpg',\n",
    " \"Confiture d'Abricots\": 'https://groupeamour.com/images/dish_img_5.jpg',\n",
    " \"Confiture d'Oranges\": 'https://groupeamour.com/images/dish_img_4.jpg',\n",
    " 'Confiture de Figues': 'https://groupeamour.com/images/dish_img_3.jpg',\n",
    " 'Confiture de Pommes': 'https://groupeamour.com/images/dish_img_6.jpg',\n",
    " 'Farine de blé tendre': 'https://groupeamour.com/images/dish_img_7.jpg',\n",
    " 'Semoule Supérieure de blé dur - Grosse': 'https://groupeamour.com/images/dish_img_8.jpg',\n",
    " 'Semoule - Demi Grosse': 'https://groupeamour.com/images/Semoule%20demi%20grosse%202.jpg',\n",
    " 'Semoule - Moyenne': 'https://groupeamour.com/images/Semoule%20moyenne%202.jpg',\n",
    " 'Semoule - Fine': 'https://groupeamour.com/images/Semoule%20fine%202.jpg',\n",
    " 'Couscous Moyen': 'https://groupeamour.com/images/dish_img_9.jpg',\n",
    " 'Couscous Gros': 'https://groupeamour.com/images/Couscous%20gros.jpg',\n",
    " 'Couscous Fin': 'https://groupeamour.com/images/Couscous%20fin.jpg'},\n",
    " \n",
    "'ramady':{'Fromage fondu portion':'https://www.ramdy-dz.com/file/img/fromge/ramdy-fromage-fondu-portion.jpg',\n",
    "'Fromage fondu barre':'https://www.ramdy-dz.com/file/img/fromge/ramdy-fromage-fondu-barre.jpg',\n",
    "'Fromage tartin':'https://www.ramdy-dz.com/file/img/fromge/ramdy-fromage-tartin.jpg',\n",
    "\"Fromage à l'huile d'olive\":'https://www.ramdy-dz.com/file/img/fromge/ramdy-fromage-huile-olive.jpg',\n",
    "'Fromage gyzmo':'https://www.ramdy-dz.com/file/img/fromge/ramdy-fromage-gyzmo.jpg',\n",
    "    },\n",
    "'ramy': {'Ramy Extra':'https://www.ramyfood.com/media/k2/items/cache/be28adfff47893c4519c1307dc6b8866_M.jpg',\n",
    "'Ramy nature':'https://www.ramyfood.com/media/k2/items/cache/4d8c9898b5bb88437f053c8b957f47f3_M.jpg',\n",
    "'Ramy Délice':'https://www.ramyfood.com/media/k2/items/cache/53bed31cb74891ae64a31e4c592ef86d_M.jpg',\n",
    "'Ramy Boisson gazéifié Canette':'https://www.ramyfood.com/media/k2/items/cache/c1572c59821062c96d0fc33ad32a2983_M.jpg',\n",
    "'Ramy Bitter Plus':'https://www.ramyfood.com/media/k2/items/cache/1d73e13563b8be946c0f00bab252d7ea_M.jpg',\n",
    "},\n",
    " 'leBerber': {\n",
    "    'Fromage fondu portion':'http://www.promasidor.dz/media/3413/boite-16-portions-plus-une-portion.png',\n",
    "    'Fromage fondu barre':'http://www.promasidor.dz/media/3414/product_lb_croissance_square.png',\n",
    "    'Fromage cuisine':'http://www.promasidor.dz/media/3415/product_lb_cuisiner_barre-300gr.png',\n",
    "    'Fromage olive noir':'http://www.promasidor.dz/media/3249/barre-150gr-olive-noire-copy.png',\n",
    "    'Ail & fines-herbes':'http://www.promasidor.dz/media/3247/barre-150gr-ail-et-fines-herbes-copy.png',\n",
    "\n",
    "\n",
    "    }\n",
    " \n",
    " \n",
    "}\n",
    "produit"
   ]
  },
  {
   "cell_type": "code",
   "execution_count": 89,
   "id": "0a56c389-f363-4520-b4da-95f4040d8d29",
   "metadata": {},
   "outputs": [
    {
     "name": "stdout",
     "output_type": "stream",
     "text": [
      "jkks\n"
     ]
    }
   ],
   "source": [
    "s = \"jkk's\"\n",
    "print(s.replace(\"'\", \"\"))"
   ]
  },
  {
   "cell_type": "code",
   "execution_count": 94,
   "id": "17cba121-9204-4eda-b28f-a59ff03c340f",
   "metadata": {},
   "outputs": [
    {
     "name": "stdout",
     "output_type": "stream",
     "text": [
      "228.2\n"
     ]
    }
   ],
   "source": [
    "import random\n",
    "\n",
    "print(round(random.uniform(100.5,250), 2))\n",
    "# Output 27.23469913175497\n",
    "header = []\n",
    "list_of_lists = []\n",
    "for m, value in produit.items():\n",
    " \n",
    "    for product_name, value in value.items():\n",
    "        product_code = product_name.replace(\"'\", \"\")\n",
    "        product_code = product_code.replace(\"-\", \"\")\n",
    "        product_code = product_code.replace(\" \", \"_\")\n",
    "        list_of_lists.append([m, product_code, product_name,  round(random.uniform(100.5,250), 2), value])\n",
    "\n",
    "    \n"
   ]
  },
  {
   "cell_type": "code",
   "execution_count": 96,
   "id": "fbac881b-32de-42d4-9455-586945591cd7",
   "metadata": {},
   "outputs": [],
   "source": [
    "\n",
    "# Import pandas library\n",
    "import pandas as pd\n",
    " \n",
    "# initialize list of lists\n",
    "data = [['Geeks', 10], ['for', 15], ['geeks', 20]]\n",
    " \n",
    "# Create the pandas DataFrame\n",
    "df = pd.DataFrame(list_of_lists, columns = ['provider', 'product_code', 'product_name','price', 'product_image' ])\n",
    "df\n",
    "# print dataframe.\n",
    "df.to_csv('products.csv')"
   ]
  },
  {
   "cell_type": "code",
   "execution_count": null,
   "id": "313ff6b1-1f96-4b47-9f44-b30f0b803234",
   "metadata": {},
   "outputs": [],
   "source": []
  }
 ],
 "metadata": {
  "kernelspec": {
   "display_name": "Python 3 (ipykernel)",
   "language": "python",
   "name": "python3"
  },
  "language_info": {
   "codemirror_mode": {
    "name": "ipython",
    "version": 3
   },
   "file_extension": ".py",
   "mimetype": "text/x-python",
   "name": "python",
   "nbconvert_exporter": "python",
   "pygments_lexer": "ipython3",
   "version": "3.9.13"
  }
 },
 "nbformat": 4,
 "nbformat_minor": 5
}
